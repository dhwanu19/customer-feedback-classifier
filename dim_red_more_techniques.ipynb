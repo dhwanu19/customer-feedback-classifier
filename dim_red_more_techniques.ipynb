{
  "nbformat": 4,
  "nbformat_minor": 0,
  "metadata": {
    "colab": {
      "provenance": []
    },
    "kernelspec": {
      "name": "python3",
      "display_name": "Python 3"
    },
    "language_info": {
      "name": "python"
    }
  },
  "cells": [
    {
      "cell_type": "markdown",
      "source": [
        "Version of `dimensionality_reduction_experiments.ipynb` using weighted log-loss rather than accuracy as an evaluation metric (`GridSearchCV`'s `scoring` param)"
      ],
      "metadata": {
        "id": "bpctSjjMONhc"
      }
    },
    {
      "cell_type": "markdown",
      "source": [
        "# Setup - imports, load data etc"
      ],
      "metadata": {
        "id": "iFYgp0HA7GfD"
      }
    },
    {
      "cell_type": "code",
      "execution_count": null,
      "metadata": {
        "id": "5kn5CztTHNLh"
      },
      "outputs": [],
      "source": [
        "import numpy as np\n",
        "import pandas as pd\n",
        "import matplotlib.pyplot as plt\n",
        "import seaborn as sns\n",
        "\n",
        "from sklearn.model_selection import train_test_split, GridSearchCV, StratifiedKFold\n",
        "from sklearn.preprocessing import StandardScaler, LabelEncoder, label_binarize\n",
        "from sklearn.decomposition import NMF, PCA, TruncatedSVD\n",
        "from sklearn.feature_selection import SelectKBest, f_classif, mutual_info_classif\n",
        "from sklearn.pipeline import Pipeline\n",
        "from sklearn.linear_model import LogisticRegression\n",
        "from sklearn.metrics import (\n",
        "    f1_score,\n",
        "    classification_report,\n",
        "    confusion_matrix,\n",
        "    ConfusionMatrixDisplay,\n",
        "    make_scorer\n",
        ")\n",
        "\n",
        "import warnings\n",
        "warnings.filterwarnings('ignore')"
      ]
    },
    {
      "cell_type": "code",
      "source": [
        "# TODO: increase as necessary for the final model\n",
        "N_ITERATIONS = 500\n",
        "TOLERANCE = 1e-3"
      ],
      "metadata": {
        "id": "fNTmXZupPE8P"
      },
      "execution_count": null,
      "outputs": []
    },
    {
      "cell_type": "code",
      "source": [
        "from google.colab import drive\n",
        "drive.mount('/content/drive')"
      ],
      "metadata": {
        "colab": {
          "base_uri": "https://localhost:8080/"
        },
        "id": "OiWM7jJt7eYv",
        "outputId": "e522dabc-be52-4936-de34-06f48d815cd9"
      },
      "execution_count": null,
      "outputs": [
        {
          "output_type": "stream",
          "name": "stdout",
          "text": [
            "Drive already mounted at /content/drive; to attempt to forcibly remount, call drive.mount(\"/content/drive\", force_remount=True).\n"
          ]
        }
      ]
    },
    {
      "cell_type": "code",
      "source": [
        "X = pd.read_csv(\"drive/MyDrive/COMP9417/X_train.csv\").values\n",
        "y = pd.read_csv(\"drive/MyDrive/COMP9417/y_train.csv\").squeeze()\n",
        "\n",
        "scaler = StandardScaler()\n",
        "le = LabelEncoder()\n",
        "y = le.fit_transform(y)"
      ],
      "metadata": {
        "id": "YyZcAyMKHcTz"
      },
      "execution_count": null,
      "outputs": []
    },
    {
      "cell_type": "code",
      "source": [
        "CLASSES = np.unique(y)\n",
        "# y = label_binarize(y, classes=N_CLASSES) # one-hot encode y\n",
        "CLASSES"
      ],
      "metadata": {
        "id": "YgCen7y7HrQ3",
        "colab": {
          "base_uri": "https://localhost:8080/"
        },
        "outputId": "765ddd77-292b-412e-9d53-cc8bd6cff9a3"
      },
      "execution_count": null,
      "outputs": [
        {
          "output_type": "execute_result",
          "data": {
            "text/plain": [
              "array([ 0,  1,  2,  3,  4,  5,  6,  7,  8,  9, 10, 11, 12, 13, 14, 15, 16,\n",
              "       17, 18, 19, 20, 21, 22, 23, 24, 25, 26, 27])"
            ]
          },
          "metadata": {},
          "execution_count": 14
        }
      ]
    },
    {
      "cell_type": "code",
      "source": [
        "X_train, X_test, y_train, y_test = train_test_split(X, y, test_size=0.3, stratify=y, random_state=42)\n",
        "# X_train, y_train = X, y"
      ],
      "metadata": {
        "id": "cuawoOJ8HyDf"
      },
      "execution_count": null,
      "outputs": []
    },
    {
      "cell_type": "code",
      "source": [
        "X_train.shape, y_train.shape"
      ],
      "metadata": {
        "colab": {
          "base_uri": "https://localhost:8080/"
        },
        "id": "18jvvvDT1VLf",
        "outputId": "31039f07-7315-4d49-f240-9fdbbc43edfc"
      },
      "execution_count": null,
      "outputs": [
        {
          "output_type": "execute_result",
          "data": {
            "text/plain": [
              "((7000, 300), (7000,))"
            ]
          },
          "metadata": {},
          "execution_count": 16
        }
      ]
    },
    {
      "cell_type": "code",
      "source": [
        "def weighted_log_loss(y_true, y_pred_proba):\n",
        "    epsilon = 1e-15\n",
        "    y_pred_proba = np.clip(y_pred_proba, epsilon, 1 - epsilon) # check\n",
        "    y_true_ohe = label_binarize(y_true, classes=CLASSES) # check\n",
        "\n",
        "    class_counts = np.sum(y_true_ohe, axis=0)\n",
        "    class_weights = 1.0 / class_counts\n",
        "    class_weights /= np.sum(class_weights)\n",
        "    print(class_weights.shape) #! debug\n",
        "\n",
        "    # Classes with no samples should be weighted as 0 (not nan)\n",
        "    class_weights[np.isnan(class_weights)] = 0\n",
        "\n",
        "    sample_weights = np.sum(y_true_ohe * class_weights, axis=1)\n",
        "\n",
        "    # y_pred_proba is in [0, 1], so the mean will be negative. Negate for a positive value\n",
        "    loss = -np.mean(sample_weights * np.sum(y_true_ohe * np.log(y_pred_proba), axis=1))\n",
        "    return loss\n",
        "\n",
        "custom_scorer = make_scorer(weighted_log_loss, response_method=\"predict_proba\", greater_is_better=False)"
      ],
      "metadata": {
        "id": "NqJwdzHPNEyU"
      },
      "execution_count": null,
      "outputs": []
    },
    {
      "cell_type": "markdown",
      "source": [
        "# Logistic regression + PCA + grid search"
      ],
      "metadata": {
        "id": "Xp3MXZgL5_ZJ"
      }
    },
    {
      "cell_type": "code",
      "source": [
        "# Basic logistic regression model\n",
        "logistic = LogisticRegression(\n",
        "    max_iter=N_ITERATIONS,\n",
        "    multi_class='multinomial',\n",
        "    solver='lbfgs',\n",
        "    # penalty=None,\n",
        "    tol=TOLERANCE,\n",
        "    class_weight=\"balanced\", # same as weighted log loss (scaled by some factor)\n",
        ")"
      ],
      "metadata": {
        "id": "87xxHFaPOuQ6"
      },
      "execution_count": null,
      "outputs": []
    },
    {
      "cell_type": "code",
      "source": [
        "# Pipeline setup\n",
        "lr_pipe = Pipeline(steps=[\n",
        "    (\"scaler\", scaler),\n",
        "    (\"reduce_dim\", \"passthrough\"),\n",
        "    (\"classifier\", logistic),\n",
        "])"
      ],
      "metadata": {
        "id": "sFYaz1BPPJ4t"
      },
      "execution_count": null,
      "outputs": []
    },
    {
      "cell_type": "code",
      "source": [
        "# Grid search with L2 regularization and varying C\n",
        "C_OPTIONS = np.logspace(-4, 4, 4)\n",
        "N_FEATURES_OPTIONS = np.geomspace(10, 300, num=10).astype(int)\n",
        "lr_basic_cv_param_grid = {\n",
        "        # \"reduce_dim\": [PCA(iterated_power=7), NMF(max_iter=1_000)],\n",
        "        \"reduce_dim\": [PCA()],\n",
        "        \"reduce_dim__n_components\": N_FEATURES_OPTIONS,\n",
        "        # TODO: add more classifiers to grid search\n",
        "        # TODO: test C separately. Will need to set classifier__penalty &\n",
        "        \"classifier__C\": C_OPTIONS,\n",
        "}\n",
        "    # TODO: test C separately?\n",
        "    # TODO: uncomment SelectKBest(mutual_info_classif)\n",
        "    # TODO: permutation importance..? / other feature selection methods\n",
        "\n",
        "    #,\n",
        "    # {\n",
        "    #     \"reduce_dim\": [SelectKBest(mutual_info_classif)],\n",
        "    #     \"reduce_dim__k\": N_FEATURES_OPTIONS,\n",
        "    #     \"classifier__C\": C_OPTIONS,\n",
        "    # },"
      ],
      "metadata": {
        "id": "YapdgYYTPLoi"
      },
      "execution_count": null,
      "outputs": []
    },
    {
      "cell_type": "code",
      "source": [
        "grid = GridSearchCV(\n",
        "    estimator=lr_pipe,\n",
        "    param_grid=lr_basic_cv_param_grid,\n",
        "    scoring=custom_scorer,\n",
        "    # scoring=\"f1_macro\",\n",
        "    error_score=\"raise\",\n",
        "    cv=StratifiedKFold(n_splits=3), # 2/3rds of data for training, 1/3rd for evaluation\n",
        "    n_jobs=-1\n",
        ")\n",
        "\n",
        "grid.fit(X_train, y_train)\n",
        "\n",
        "y_pred = grid.predict(X_test)\n",
        "y_proba = grid.predict_proba(X_test)\n",
        "\n",
        "f1 = f1_score(y_test, y_pred, average='macro')\n",
        "wll = weighted_log_loss(y_test, y_proba)\n",
        "\n",
        "results = {\n",
        "    \"best_params\": grid.best_params_,\n",
        "    \"f1\": f1,\n",
        "    \"wll\": wll,\n",
        "    \"model\": grid.best_estimator_,\n",
        "}"
      ],
      "metadata": {
        "id": "mjjMTsLGczYY"
      },
      "execution_count": null,
      "outputs": []
    },
    {
      "cell_type": "code",
      "source": [
        "for k,v in results.items():\n",
        "  print(k)\n",
        "  print(v)\n",
        "  print()"
      ],
      "metadata": {
        "colab": {
          "base_uri": "https://localhost:8080/"
        },
        "id": "wwk9nnYTwbAl",
        "outputId": "be1147e8-6036-46e4-85ab-a548b722f22e"
      },
      "execution_count": null,
      "outputs": [
        {
          "output_type": "stream",
          "name": "stdout",
          "text": [
            "best_params\n",
            "{'classifier__C': np.float64(0.046415888336127774), 'reduce_dim': PCA(), 'reduce_dim__n_components': np.int64(300)}\n",
            "\n",
            "f1\n",
            "0.490598429548289\n",
            "\n",
            "wll\n",
            "0.006075077938922576\n",
            "\n",
            "model\n",
            "Pipeline(steps=[('scaler', StandardScaler()),\n",
            "                ('reduce_dim', PCA(n_components=np.int64(300))),\n",
            "                ('classifier',\n",
            "                 LogisticRegression(C=np.float64(0.046415888336127774),\n",
            "                                    class_weight='balanced', max_iter=500,\n",
            "                                    multi_class='multinomial', tol=0.001))])\n",
            "\n"
          ]
        }
      ]
    },
    {
      "cell_type": "code",
      "source": [
        "#reducer_labels = [\"PCA\", \"NMF\", \"KBest(mutual_info_classif)\"]"
      ],
      "metadata": {
        "id": "3bYKGfQWvISn"
      },
      "execution_count": null,
      "outputs": []
    },
    {
      "cell_type": "code",
      "source": [
        "# grid.cv_results_"
      ],
      "metadata": {
        "id": "926v3r0u9g2K"
      },
      "execution_count": null,
      "outputs": []
    },
    {
      "cell_type": "code",
      "source": [
        "mean_scores = np.array(grid.cv_results_[\"mean_test_score\"])\n",
        "# scores are in the order of param_grid iteration, which is alphabetical\n",
        "mean_scores = mean_scores.reshape(len(C_OPTIONS), -1, len(N_FEATURES_OPTIONS))\n",
        "# select score for best C\n",
        "mean_scores = mean_scores.max(axis=0)\n",
        "\n",
        "# create a dataframe to ease plotting\n",
        "mean_scores = pd.DataFrame(\n",
        "    mean_scores.T, index=N_FEATURES_OPTIONS, columns=[\"PCA\"]\n",
        ")\n",
        "\n",
        "ax = mean_scores.plot.bar()\n",
        "ax.set_title(\"Comparing feature reduction techniques\")\n",
        "ax.set_xlabel(\"Reduced number of features\")\n",
        "# ax.set_ylabel(\"Mean test score (F1 macro)\")\n",
        "ax.set_ylabel(\"Mean test score (negative weighted log-loss)\")\n",
        "# ax.set_ylim((0, 1))\n",
        "ax.legend(loc=\"upper left\")\n",
        "\n",
        "plt.show()"
      ],
      "metadata": {
        "colab": {
          "base_uri": "https://localhost:8080/",
          "height": 484
        },
        "id": "GhM_V_wjkz-B",
        "outputId": "eb37299d-1c11-4bc4-a353-6891d814f055"
      },
      "execution_count": null,
      "outputs": [
        {
          "output_type": "display_data",
          "data": {
            "text/plain": [
              "<Figure size 640x480 with 1 Axes>"
            ],
            "image/png": "[encoded data removed]"
          },
          "metadata": {}
        }
      ]
    },
    {
      "cell_type": "code",
      "source": [
        "# grid.cv_results_[\"mean_test_score\"]\n",
        "mean_scores"
      ],
      "metadata": {
        "colab": {
          "base_uri": "https://localhost:8080/",
          "height": 363
        },
        "id": "YreodX8rvNWO",
        "outputId": "8a0f00c3-78f9-4445-8335-c4d9ad3cb366"
      },
      "execution_count": null,
      "outputs": [
        {
          "output_type": "execute_result",
          "data": {
            "text/plain": [
              "          PCA\n",
              "10  -0.007016\n",
              "14  -0.006616\n",
              "21  -0.006373\n",
              "31  -0.006024\n",
              "45  -0.005824\n",
              "66  -0.005653\n",
              "96  -0.005685\n",
              "140 -0.005670\n",
              "205 -0.005638\n",
              "300 -0.005565"
            ],
            "text/html": [
              "\n",
              "  <div id=\"df-90b4c098-5d93-400b-894f-bd3b6da4da42\" class=\"colab-df-container\">\n",
              "    <div>\n",
              "<style scoped>\n",
              "    .dataframe tbody tr th:only-of-type {\n",
              "        vertical-align: middle;\n",
              "    }\n",
              "\n",
              "    .dataframe tbody tr th {\n",
              "        vertical-align: top;\n",
              "    }\n",
              "\n",
              "    .dataframe thead th {\n",
              "        text-align: right;\n",
              "    }\n",
              "</style>\n",
              "<table border=\"1\" class=\"dataframe\">\n",
              "  <thead>\n",
              "    <tr style=\"text-align: right;\">\n",
              "      <th></th>\n",
              "      <th>PCA</th>\n",
              "    </tr>\n",
              "  </thead>\n",
              "  <tbody>\n",
              "    <tr>\n",
              "      <th>10</th>\n",
              "      <td>-0.007016</td>\n",
              "    </tr>\n",
              "    <tr>\n",
              "      <th>14</th>\n",
              "      <td>-0.006616</td>\n",
              "    </tr>\n",
              "    <tr>\n",
              "      <th>21</th>\n",
              "      <td>-0.006373</td>\n",
              "    </tr>\n",
              "    <tr>\n",
              "      <th>31</th>\n",
              "      <td>-0.006024</td>\n",
              "    </tr>\n",
              "    <tr>\n",
              "      <th>45</th>\n",
              "      <td>-0.005824</td>\n",
              "    </tr>\n",
              "    <tr>\n",
              "      <th>66</th>\n",
              "      <td>-0.005653</td>\n",
              "    </tr>\n",
              "    <tr>\n",
              "      <th>96</th>\n",
              "      <td>-0.005685</td>\n",
              "    </tr>\n",
              "    <tr>\n",
              "      <th>140</th>\n",
              "      <td>-0.005670</td>\n",
              "    </tr>\n",
              "    <tr>\n",
              "      <th>205</th>\n",
              "      <td>-0.005638</td>\n",
              "    </tr>\n",
              "    <tr>\n",
              "      <th>300</th>\n",
              "      <td>-0.005565</td>\n",
              "    </tr>\n",
              "  </tbody>\n",
              "</table>\n",
              "</div>\n",
              "    <div class=\"colab-df-buttons\">\n",
              "\n",
              "  <div class=\"colab-df-container\">\n",
              "    <button class=\"colab-df-convert\" onclick=\"convertToInteractive('df-90b4c098-5d93-400b-894f-bd3b6da4da42')\"\n",
              "            title=\"Convert this dataframe to an interactive table.\"\n",
              "            style=\"display:none;\">\n",
              "\n",
              "  <svg xmlns=\"http://www.w3.org/2000/svg\" height=\"24px\" viewBox=\"0 -960 960 960\">\n",
              "    <path d=\"M120-120v-720h720v720H120Zm60-500h600v-160H180v160Zm220 220h160v-160H400v160Zm0 220h160v-160H400v160ZM180-400h160v-160H180v160Zm440 0h160v-160H620v160ZM180-180h160v-160H180v160Zm440 0h160v-160H620v160Z\"/>\n",
              "  </svg>\n",
              "    </button>\n",
              "\n",
              "  <style>\n",
              "    .colab-df-container {\n",
              "      display:flex;\n",
              "      gap: 12px;\n",
              "    }\n",
              "\n",
              "    .colab-df-convert {\n",
              "      background-color: #E8F0FE;\n",
              "      border: none;\n",
              "      border-radius: 50%;\n",
              "      cursor: pointer;\n",
              "      display: none;\n",
              "      fill: #1967D2;\n",
              "      height: 32px;\n",
              "      padding: 0 0 0 0;\n",
              "      width: 32px;\n",
              "    }\n",
              "\n",
              "    .colab-df-convert:hover {\n",
              "      background-color: #E2EBFA;\n",
              "      box-shadow: 0px 1px 2px rgba(60, 64, 67, 0.3), 0px 1px 3px 1px rgba(60, 64, 67, 0.15);\n",
              "      fill: #174EA6;\n",
              "    }\n",
              "\n",
              "    .colab-df-buttons div {\n",
              "      margin-bottom: 4px;\n",
              "    }\n",
              "\n",
              "    [theme=dark] .colab-df-convert {\n",
              "      background-color: #3B4455;\n",
              "      fill: #D2E3FC;\n",
              "    }\n",
              "\n",
              "    [theme=dark] .colab-df-convert:hover {\n",
              "      background-color: #434B5C;\n",
              "      box-shadow: 0px 1px 3px 1px rgba(0, 0, 0, 0.15);\n",
              "      filter: drop-shadow(0px 1px 2px rgba(0, 0, 0, 0.3));\n",
              "      fill: #FFFFFF;\n",
              "    }\n",
              "  </style>\n",
              "\n",
              "    <script>\n",
              "      const buttonEl =\n",
              "        document.querySelector('#df-90b4c098-5d93-400b-894f-bd3b6da4da42 button.colab-df-convert');\n",
              "      buttonEl.style.display =\n",
              "        google.colab.kernel.accessAllowed ? 'block' : 'none';\n",
              "\n",
              "      async function convertToInteractive(key) {\n",
              "        const element = document.querySelector('#df-90b4c098-5d93-400b-894f-bd3b6da4da42');\n",
              "        const dataTable =\n",
              "          await google.colab.kernel.invokeFunction('convertToInteractive',\n",
              "                                                    [key], {});\n",
              "        if (!dataTable) return;\n",
              "\n",
              "        const docLinkHtml = 'Like what you see? Visit the ' +\n",
              "          '<a target=\"_blank\" href=https://colab.research.google.com/notebooks/data_table.ipynb>data table notebook</a>'\n",
              "          + ' to learn more about interactive tables.';\n",
              "        element.innerHTML = '';\n",
              "        dataTable['output_type'] = 'display_data';\n",
              "        await google.colab.output.renderOutput(dataTable, element);\n",
              "        const docLink = document.createElement('div');\n",
              "        docLink.innerHTML = docLinkHtml;\n",
              "        element.appendChild(docLink);\n",
              "      }\n",
              "    </script>\n",
              "  </div>\n",
              "\n",
              "\n",
              "<div id=\"df-457a4ede-4eb3-43e3-ae24-057aff1134ab\">\n",
              "  <button class=\"colab-df-quickchart\" onclick=\"quickchart('df-457a4ede-4eb3-43e3-ae24-057aff1134ab')\"\n",
              "            title=\"Suggest charts\"\n",
              "            style=\"display:none;\">\n",
              "\n",
              "<svg xmlns=\"http://www.w3.org/2000/svg\" height=\"24px\"viewBox=\"0 0 24 24\"\n",
              "     width=\"24px\">\n",
              "    <g>\n",
              "        <path d=\"M19 3H5c-1.1 0-2 .9-2 2v14c0 1.1.9 2 2 2h14c1.1 0 2-.9 2-2V5c0-1.1-.9-2-2-2zM9 17H7v-7h2v7zm4 0h-2V7h2v10zm4 0h-2v-4h2v4z\"/>\n",
              "    </g>\n",
              "</svg>\n",
              "  </button>\n",
              "\n",
              "<style>\n",
              "  .colab-df-quickchart {\n",
              "      --bg-color: #E8F0FE;\n",
              "      --fill-color: #1967D2;\n",
              "      --hover-bg-color: #E2EBFA;\n",
              "      --hover-fill-color: #174EA6;\n",
              "      --disabled-fill-color: #AAA;\n",
              "      --disabled-bg-color: #DDD;\n",
              "  }\n",
              "\n",
              "  [theme=dark] .colab-df-quickchart {\n",
              "      --bg-color: #3B4455;\n",
              "      --fill-color: #D2E3FC;\n",
              "      --hover-bg-color: #434B5C;\n",
              "      --hover-fill-color: #FFFFFF;\n",
              "      --disabled-bg-color: #3B4455;\n",
              "      --disabled-fill-color: #666;\n",
              "  }\n",
              "\n",
              "  .colab-df-quickchart {\n",
              "    background-color: var(--bg-color);\n",
              "    border: none;\n",
              "    border-radius: 50%;\n",
              "    cursor: pointer;\n",
              "    display: none;\n",
              "    fill: var(--fill-color);\n",
              "    height: 32px;\n",
              "    padding: 0;\n",
              "    width: 32px;\n",
              "  }\n",
              "\n",
              "  .colab-df-quickchart:hover {\n",
              "    background-color: var(--hover-bg-color);\n",
              "    box-shadow: 0 1px 2px rgba(60, 64, 67, 0.3), 0 1px 3px 1px rgba(60, 64, 67, 0.15);\n",
              "    fill: var(--button-hover-fill-color);\n",
              "  }\n",
              "\n",
              "  .colab-df-quickchart-complete:disabled,\n",
              "  .colab-df-quickchart-complete:disabled:hover {\n",
              "    background-color: var(--disabled-bg-color);\n",
              "    fill: var(--disabled-fill-color);\n",
              "    box-shadow: none;\n",
              "  }\n",
              "\n",
              "  .colab-df-spinner {\n",
              "    border: 2px solid var(--fill-color);\n",
              "    border-color: transparent;\n",
              "    border-bottom-color: var(--fill-color);\n",
              "    animation:\n",
              "      spin 1s steps(1) infinite;\n",
              "  }\n",
              "\n",
              "  @keyframes spin {\n",
              "    0% {\n",
              "      border-color: transparent;\n",
              "      border-bottom-color: var(--fill-color);\n",
              "      border-left-color: var(--fill-color);\n",
              "    }\n",
              "    20% {\n",
              "      border-color: transparent;\n",
              "      border-left-color: var(--fill-color);\n",
              "      border-top-color: var(--fill-color);\n",
              "    }\n",
              "    30% {\n",
              "      border-color: transparent;\n",
              "      border-left-color: var(--fill-color);\n",
              "      border-top-color: var(--fill-color);\n",
              "      border-right-color: var(--fill-color);\n",
              "    }\n",
              "    40% {\n",
              "      border-color: transparent;\n",
              "      border-right-color: var(--fill-color);\n",
              "      border-top-color: var(--fill-color);\n",
              "    }\n",
              "    60% {\n",
              "      border-color: transparent;\n",
              "      border-right-color: var(--fill-color);\n",
              "    }\n",
              "    80% {\n",
              "      border-color: transparent;\n",
              "      border-right-color: var(--fill-color);\n",
              "      border-bottom-color: var(--fill-color);\n",
              "    }\n",
              "    90% {\n",
              "      border-color: transparent;\n",
              "      border-bottom-color: var(--fill-color);\n",
              "    }\n",
              "  }\n",
              "</style>\n",
              "\n",
              "  <script>\n",
              "    async function quickchart(key) {\n",
              "      const quickchartButtonEl =\n",
              "        document.querySelector('#' + key + ' button');\n",
              "      quickchartButtonEl.disabled = true;  // To prevent multiple clicks.\n",
              "      quickchartButtonEl.classList.add('colab-df-spinner');\n",
              "      try {\n",
              "        const charts = await google.colab.kernel.invokeFunction(\n",
              "            'suggestCharts', [key], {});\n",
              "      } catch (error) {\n",
              "        console.error('Error during call to suggestCharts:', error);\n",
              "      }\n",
              "      quickchartButtonEl.classList.remove('colab-df-spinner');\n",
              "      quickchartButtonEl.classList.add('colab-df-quickchart-complete');\n",
              "    }\n",
              "    (() => {\n",
              "      let quickchartButtonEl =\n",
              "        document.querySelector('#df-457a4ede-4eb3-43e3-ae24-057aff1134ab button');\n",
              "      quickchartButtonEl.style.display =\n",
              "        google.colab.kernel.accessAllowed ? 'block' : 'none';\n",
              "    })();\n",
              "  </script>\n",
              "</div>\n",
              "\n",
              "  <div id=\"id_67f3079b-d581-4b9b-95fb-c1f1e2c5b188\">\n",
              "    <style>\n",
              "      .colab-df-generate {\n",
              "        background-color: #E8F0FE;\n",
              "        border: none;\n",
              "        border-radius: 50%;\n",
              "        cursor: pointer;\n",
              "        display: none;\n",
              "        fill: #1967D2;\n",
              "        height: 32px;\n",
              "        padding: 0 0 0 0;\n",
              "        width: 32px;\n",
              "      }\n",
              "\n",
              "      .colab-df-generate:hover {\n",
              "        background-color: #E2EBFA;\n",
              "        box-shadow: 0px 1px 2px rgba(60, 64, 67, 0.3), 0px 1px 3px 1px rgba(60, 64, 67, 0.15);\n",
              "        fill: #174EA6;\n",
              "      }\n",
              "\n",
              "      [theme=dark] .colab-df-generate {\n",
              "        background-color: #3B4455;\n",
              "        fill: #D2E3FC;\n",
              "      }\n",
              "\n",
              "      [theme=dark] .colab-df-generate:hover {\n",
              "        background-color: #434B5C;\n",
              "        box-shadow: 0px 1px 3px 1px rgba(0, 0, 0, 0.15);\n",
              "        filter: drop-shadow(0px 1px 2px rgba(0, 0, 0, 0.3));\n",
              "        fill: #FFFFFF;\n",
              "      }\n",
              "    </style>\n",
              "    <button class=\"colab-df-generate\" onclick=\"generateWithVariable('mean_scores')\"\n",
              "            title=\"Generate code using this dataframe.\"\n",
              "            style=\"display:none;\">\n",
              "\n",
              "  <svg xmlns=\"http://www.w3.org/2000/svg\" height=\"24px\"viewBox=\"0 0 24 24\"\n",
              "       width=\"24px\">\n",
              "    <path d=\"M7,19H8.4L18.45,9,17,7.55,7,17.6ZM5,21V16.75L18.45,3.32a2,2,0,0,1,2.83,0l1.4,1.43a1.91,1.91,0,0,1,.58,1.4,1.91,1.91,0,0,1-.58,1.4L9.25,21ZM18.45,9,17,7.55Zm-12,3A5.31,5.31,0,0,0,4.9,8.1,5.31,5.31,0,0,0,1,6.5,5.31,5.31,0,0,0,4.9,4.9,5.31,5.31,0,0,0,6.5,1,5.31,5.31,0,0,0,8.1,4.9,5.31,5.31,0,0,0,12,6.5,5.46,5.46,0,0,0,6.5,12Z\"/>\n",
              "  </svg>\n",
              "    </button>\n",
              "    <script>\n",
              "      (() => {\n",
              "      const buttonEl =\n",
              "        document.querySelector('#id_67f3079b-d581-4b9b-95fb-c1f1e2c5b188 button.colab-df-generate');\n",
              "      buttonEl.style.display =\n",
              "        google.colab.kernel.accessAllowed ? 'block' : 'none';\n",
              "\n",
              "      buttonEl.onclick = () => {\n",
              "        google.colab.notebook.generateWithVariable('mean_scores');\n",
              "      }\n",
              "      })();\n",
              "    </script>\n",
              "  </div>\n",
              "\n",
              "    </div>\n",
              "  </div>\n"
            ],
            "application/vnd.google.colaboratory.intrinsic+json": {
              "type": "dataframe",
              "variable_name": "mean_scores",
              "summary": "{\n  \"name\": \"mean_scores\",\n  \"rows\": 10,\n  \"fields\": [\n    {\n      \"column\": \"PCA\",\n      \"properties\": {\n        \"dtype\": \"number\",\n        \"std\": 0.0004978978164159553,\n        \"min\": -0.007016063640965059,\n        \"max\": -0.0055653226758987885,\n        \"num_unique_values\": 10,\n        \"samples\": [\n          -0.00563757319737904,\n          -0.0066163807412397,\n          -0.005653100845694853\n        ],\n        \"semantic_type\": \"\",\n        \"description\": \"\"\n      }\n    }\n  ]\n}"
            }
          },
          "metadata": {},
          "execution_count": 24
        }
      ]
    },
    {
      "cell_type": "markdown",
      "source": [
        "# Checking weighted log loss for 10 vs 300 features"
      ],
      "metadata": {
        "id": "8PbGZVMNfj-a"
      }
    },
    {
      "cell_type": "code",
      "source": [
        "# Linear regression + PCA with 10 features selected\n",
        "lr_pca_10_components = Pipeline(steps=[\n",
        "    (\"scaler\", scaler),\n",
        "    (\"reduce_dim\", PCA(n_components=10)),\n",
        "    (\"classifier\", logistic),\n",
        "])\n",
        "\n",
        "lr_pca_10_components.fit(X_train, y_train)\n",
        "train_pred_proba = lr_pca_10_components.predict_proba(X_train)\n",
        "print(f\"Train WLL (10 feats): {weighted_log_loss(y_train, train_pred_proba):.6f}\")\n",
        "\n",
        "test_pred_proba = lr_pca_10_components.predict_proba(X_test)\n",
        "print(f\"Test WLL (10 feats): {weighted_log_loss(y_test, test_pred_proba):.6f}\")"
      ],
      "metadata": {
        "colab": {
          "base_uri": "https://localhost:8080/"
        },
        "id": "tHEJnaGAfjQX",
        "outputId": "fc934b60-5719-4b8d-933c-327ba0c18a66"
      },
      "execution_count": null,
      "outputs": [
        {
          "output_type": "stream",
          "name": "stdout",
          "text": [
            "Train WLL (10 feats): 0.005804\n",
            "Test WLL (10 feats): 0.007741\n"
          ]
        }
      ]
    },
    {
      "cell_type": "code",
      "source": [
        "# Linear regression + PCA with 10 features selected\n",
        "lr_pca_300_components = Pipeline(steps=[\n",
        "    (\"scaler\", scaler),\n",
        "    (\"reduce_dim\", PCA(n_components=300)),\n",
        "    (\"classifier\", logistic),\n",
        "])\n",
        "\n",
        "lr_pca_300_components.fit(X_train, y_train)\n",
        "train_pred_proba = lr_pca_300_components.predict_proba(X_train)\n",
        "print(f\"Train WLL (300 feats): {weighted_log_loss(y_train, train_pred_proba):.6f}\")\n",
        "\n",
        "test_pred_proba = lr_pca_300_components.predict_proba(X_test)\n",
        "print(f\"Test WLL (300 feats): {weighted_log_loss(y_test, test_pred_proba):.6f}\")"
      ],
      "metadata": {
        "id": "b4rXnzdpzR6b",
        "colab": {
          "base_uri": "https://localhost:8080/"
        },
        "outputId": "2d8c2900-4778-4c5c-f91c-6c531e3b55a7"
      },
      "execution_count": null,
      "outputs": [
        {
          "output_type": "stream",
          "name": "stdout",
          "text": [
            "Train WLL (300 feats): 0.000348\n",
            "Test WLL (300 feats): 0.011544\n"
          ]
        }
      ]
    },
    {
      "cell_type": "markdown",
      "source": [
        "## And again, with L2 regression & a simple grid search for best C"
      ],
      "metadata": {
        "id": "Lv90W-zwrrAO"
      }
    },
    {
      "cell_type": "code",
      "source": [
        "# Linear regression + PCA with 10 features selected\n",
        "lr_pca_10_components = Pipeline(steps=[\n",
        "    (\"scaler\", scaler),\n",
        "    (\"reduce_dim\", PCA(n_components=10)),\n",
        "    (\"classifier\", logistic),\n",
        "])\n",
        "\n",
        "lr_pca_10_components = GridSearchCV(\n",
        "    estimator=lr_pca_10_components,\n",
        "    param_grid={\n",
        "        \"classifier__penalty\": [\"l1\", \"l2\"],\n",
        "        \"classifier__C\": np.logspace(-4, 4, 4)\n",
        "    },\n",
        "    # scoring=custom_scorer,\n",
        "    scoring=\"f1_macro\",\n",
        "    cv=StratifiedKFold(n_splits=3), # 2/3rds of data for training, 1/3rd for evaluation\n",
        "    n_jobs=-1\n",
        ")\n",
        "\n",
        "lr_pca_10_components.fit(X_train, y_train)\n",
        "\n",
        "train_pred_proba = lr_pca_10_components.predict_proba(X_train)\n",
        "print(f\"Train WLL (10 feats + penalty): {weighted_log_loss(y_train, train_pred_proba):.6f}\")\n",
        "\n",
        "test_pred_proba = lr_pca_10_components.predict_proba(X_test)\n",
        "print(f\"Test WLL (10 feats + penalty): {weighted_log_loss(y_test, test_pred_proba):.6f}\")"
      ],
      "metadata": {
        "colab": {
          "base_uri": "https://localhost:8080/"
        },
        "id": "HIEWv7lfqFRe",
        "outputId": "744186d2-cd0b-4a7b-c990-ac5261d2349f"
      },
      "execution_count": null,
      "outputs": [
        {
          "output_type": "stream",
          "name": "stdout",
          "text": [
            "Train WLL (10 feats + penalty): 0.005805\n",
            "Test WLL (10 feats + penalty): 0.007734\n"
          ]
        }
      ]
    },
    {
      "cell_type": "code",
      "source": [
        "# Linear regression + PCA with 10 features selected\n",
        "lr_pca_300_components = Pipeline(steps=[\n",
        "    (\"scaler\", scaler),\n",
        "    (\"reduce_dim\", PCA(n_components=300)),\n",
        "    (\"classifier\", logistic),\n",
        "])\n",
        "\n",
        "lr_pca_300_components = GridSearchCV(\n",
        "    estimator=lr_pca_300_components,\n",
        "    param_grid={\n",
        "        \"classifier__penalty\": [\"l1\", \"l2\"],\n",
        "        \"classifier__C\": np.logspace(-4, 4, 4)\n",
        "    },\n",
        "    # scoring=custom_scorer,\n",
        "    scoring=\"f1_macro\",\n",
        "    cv=StratifiedKFold(n_splits=3), # 2/3rds of data for training, 1/3rd for evaluation\n",
        "    n_jobs=-1\n",
        ")\n",
        "\n",
        "lr_pca_300_components.fit(X_train, y_train)\n",
        "\n",
        "train_pred_proba = lr_pca_300_components.predict_proba(X_train)\n",
        "print(f\"Train WLL (300 feats + penalty): {weighted_log_loss(y_train, train_pred_proba):.6f}\")\n",
        "\n",
        "test_pred_proba = lr_pca_300_components.predict_proba(X_test)\n",
        "print(f\"Test WLL (300 feats + penalty): {weighted_log_loss(y_test, test_pred_proba):.6f}\")"
      ],
      "metadata": {
        "colab": {
          "base_uri": "https://localhost:8080/"
        },
        "id": "9RFsGd07s8zP",
        "outputId": "3046ddce-3319-41a6-ac58-96f448ac82e7"
      },
      "execution_count": null,
      "outputs": [
        {
          "output_type": "stream",
          "name": "stdout",
          "text": [
            "Train WLL (300 feats + penalty): 0.001044\n",
            "Test WLL (300 feats + penalty): 0.006075\n"
          ]
        }
      ]
    },
    {
      "cell_type": "markdown",
      "source": [
        "# Testing more models & dimensionality reduction methods\n",
        "Assumes the \"Setup - imports, load data etc\" section has been run."
      ],
      "metadata": {
        "id": "ZFGFTinpiAxO"
      }
    },
    {
      "cell_type": "code",
      "source": [
        "# def evaluate_best_per_model(grid, X_train, y_train, X_test, y_test, group_keys):\n",
        "#     \"\"\"\n",
        "#     Evaluate the best models for each combination of values in group_keys.\n",
        "\n",
        "#     Parameters:\n",
        "#     - grid: fitted GridSearchCV object\n",
        "#     - X_train, y_train: train data\n",
        "#     - X_test, y_test: test data\n",
        "#     - group_keys: list of keys to group by (e.g. ['param_reduce_dim', 'param_classifier'])\n",
        "\n",
        "#     Returns:\n",
        "#     - DataFrame with best scores and classification reports\n",
        "#     \"\"\"\n",
        "#     results_df = pd.DataFrame(grid.cv_results_)\n",
        "#     print(results_df)\n",
        "\n",
        "#     # Clean key names\n",
        "#     for key in group_keys:\n",
        "#         if key not in results_df:\n",
        "#             # raise ValueError(f\"Missing key {key} in cv_results_\")\n",
        "#             group_keys.remove(key)\n",
        "#     if not group_keys:\n",
        "#         raise ValueError(f\"Missing key(s) in cv_results_!\")\n",
        "\n",
        "#     # Group and select best by mean_test_score\n",
        "#     best_rows = results_df.sort_values('mean_test_score', ascending=False).groupby(group_keys).head(1)\n",
        "\n",
        "#     reports = []\n",
        "\n",
        "#     for _, row in best_rows.iterrows():\n",
        "#         params = row['params']\n",
        "#         model = grid.best_estimator_.set_params(**params)\n",
        "#         model.fit(X_train, y_train)  # retrain on full train set\n",
        "\n",
        "#         # TODO: don't use test set until we have our final model?\n",
        "#         y_pred = model.predict(X_test)\n",
        "#         y_proba = model.predict_proba(X_test)\n",
        "\n",
        "#         print(f\"\\nEvaluating model with: {params}\")\n",
        "#         print(classification_report(y_test, y_pred, zero_division=0))\n",
        "\n",
        "#         cm = confusion_matrix(y_test, y_pred)\n",
        "#         disp = ConfusionMatrixDisplay(confusion_matrix=cm)\n",
        "#         disp.plot(xticks_rotation=45)\n",
        "#         plt.title(f\"Confusion Matrix\\n{params}\")\n",
        "#         plt.tight_layout()\n",
        "#         plt.show()\n",
        "\n",
        "#         reports.append({\n",
        "#             'params': params,\n",
        "#             'mean_test_score': row['mean_test_score'],\n",
        "#             'report': classification_report(y_test, y_pred, output_dict=True)\n",
        "#         })\n",
        "\n",
        "#     return pd.DataFrame(reports)"
      ],
      "metadata": {
        "id": "kl76x2-FtE7G"
      },
      "execution_count": null,
      "outputs": []
    },
    {
      "cell_type": "markdown",
      "source": [
        "### PCA vs l2 penalty\n",
        "Note that l2 penalty (regularisation) is considered a filter method of feature selection."
      ],
      "metadata": {
        "id": "eYzLO4n20RNO"
      }
    },
    {
      "cell_type": "code",
      "source": [
        "# Basic logistic regression model\n",
        "logistic = LogisticRegression(\n",
        "    max_iter=N_ITERATIONS,\n",
        "    multi_class='multinomial',\n",
        "    solver='lbfgs',\n",
        "    tol=TOLERANCE,\n",
        "    class_weight=\"balanced\", # same as weighted log loss (scaled by some factor)\n",
        ")\n",
        "\n",
        "# Pipeline setup\n",
        "lr_pipe = Pipeline(steps=[\n",
        "    (\"scaler\", scaler),\n",
        "    (\"reduce_dim\", \"passthrough\"),\n",
        "    (\"classifier\", logistic),\n",
        "])\n",
        "\n",
        "# Model 1 - logisitc regression with l2 regularisation only\n",
        "# It was consistently choosing C=0.0464... when using (-4, 4, 4), shifted the range\n",
        "C_OPTIONS = np.logspace(-5, 2, 6)\n",
        "lr_reg_params = {\n",
        "    \"classifier__C\": C_OPTIONS,\n",
        "}\n",
        "\n",
        "# Model 2 - PCA without regularisation\n",
        "N_FEATURES_OPTIONS = np.geomspace(10, 300, num=10).astype(int)\n",
        "lr_pca_params = {\n",
        "    \"reduce_dim\": [PCA()],\n",
        "    \"reduce_dim__n_components\": N_FEATURES_OPTIONS,\n",
        "    \"classifier__penalty\": [None],\n",
        "}\n",
        "\n",
        "# Model 3 - Grid search with L2 regularization and varying C\n",
        "lr_pca_reg_params = {\n",
        "        \"reduce_dim\": [PCA()],\n",
        "        \"reduce_dim__n_components\": N_FEATURES_OPTIONS,\n",
        "        \"classifier__C\": C_OPTIONS,\n",
        "}"
      ],
      "metadata": {
        "id": "l3Xr5jCztarX"
      },
      "execution_count": null,
      "outputs": []
    },
    {
      "cell_type": "code",
      "source": [
        "from dataclasses import dataclass\n",
        "from typing import Iterable\n",
        "\n",
        "@dataclass\n",
        "class Experiment:\n",
        "     name: str\n",
        "     # sklearn classifier, or a pipeline/GridSearchCV etc containing one\n",
        "     estimator: ...\n",
        "     param_grid: dict\n",
        "     # Grid param(s) to group by & use as the horizontal axis, e.g. \"classifier__C\"\n",
        "     group_by: str\n",
        "     trained_model: ... = None\n",
        "\n",
        "experiments = (\n",
        "    # Logistic regression (with and without regularisation / PCA etc)\n",
        "    Experiment('LR - l2 penalty + grid search for C', lr_pipe, lr_reg_params, \"classifier__C\"),\n",
        "    Experiment('LR - PCA, no penalty', lr_pipe, lr_pca_params, \"reduce_dim__n_components\"),\n",
        "    Experiment('LR - PCA, l2 penalty + grid search for C', lr_pipe, lr_pca_reg_params, \"reduce_dim__n_components\"),\n",
        ")\n",
        "\n",
        "for exp in experiments:\n",
        "    print(f\"Training {exp.name}...\")\n",
        "    grid = GridSearchCV(\n",
        "        estimator=exp.estimator,\n",
        "        param_grid=exp.param_grid,\n",
        "        scoring=custom_scorer, # negative weighted log loss\n",
        "        error_score=\"raise\", # type: ignore\n",
        "        cv=StratifiedKFold(n_splits=3), # 2/3rds of data for training, 1/3rd for evaluation\n",
        "        n_jobs=-1\n",
        "    )\n",
        "    grid.fit(X_train, y_train)\n",
        "    exp.trained_model = grid"
      ],
      "metadata": {
        "colab": {
          "base_uri": "https://localhost:8080/"
        },
        "id": "2xCkZcY121cM",
        "outputId": "e2c78d68-4709-4f3e-88bf-f7f2f9e10f0a"
      },
      "execution_count": null,
      "outputs": [
        {
          "output_type": "stream",
          "name": "stdout",
          "text": [
            "Training LR - l2 penalty + grid search for C...\n",
            "Training LR - PCA, no penalty...\n",
            "Training LR - PCA, l2 penalty + grid search for C...\n"
          ]
        }
      ]
    },
    {
      "cell_type": "code",
      "source": [
        "# all_reports: dict[str, pd.DataFrame] = {}\n",
        "\n",
        "for exp in experiments:\n",
        "    # print(exp.name)\n",
        "    # report = evaluate_best_per_model(grid, X_train, y_train, X_test, y_test, [\"param_reduce_dim__n_components\", \"param_classifier__C\"]) # TODO check group keys..?\n",
        "\n",
        "    grid = exp.trained_model\n",
        "    if not grid:\n",
        "        raise AttributeError(f\"trained_model not set for {exp.name}\")\n",
        "\n",
        "    results_df = pd.DataFrame(grid.cv_results_)\n",
        "    # print(results_df)\n",
        "\n",
        "    # Group and select best by mean_test_score\n",
        "    # group_by: list[str]\n",
        "    # match exp.group_by:\n",
        "    #     case str(param):\n",
        "    #         group_by = [\"param_\" + param]\n",
        "    #     case list(params):\n",
        "    #         group_by = [\"param_\" + param for param in params]\n",
        "    #     case _:\n",
        "    #         raise AttributeError(f\"group_by isn't of type str or list[str] for {exp.name}\")\n",
        "\n",
        "    # group_by = [\"param_\" + param for param in exp.group_by]\n",
        "    group_by = \"param_\" + exp.group_by\n",
        "    best_rows = results_df.sort_values('mean_test_score', ascending=False).groupby(group_by).head(1)\n",
        "\n",
        "    reports = []\n",
        "\n",
        "    for _, row in best_rows.iterrows():\n",
        "        params = row['params']\n",
        "        # model = grid.best_estimator_.set_params(**params)\n",
        "        # model.fit(X_train, y_train)  # retrain on full train set\n",
        "\n",
        "        # # TODO: don't use test set until we have our final model?\n",
        "        # y_pred = model.predict(X_test)\n",
        "        # y_proba = model.predict_proba(X_test)\n",
        "\n",
        "        # print(f\"\\nEvaluating model with: {params}\")\n",
        "        # print(classification_report(y_test, y_pred, zero_division=0))\n",
        "\n",
        "        # cm = confusion_matrix(y_test, y_pred)\n",
        "        # disp = ConfusionMatrixDisplay(confusion_matrix=cm)\n",
        "        # disp.plot(xticks_rotation=45)\n",
        "        # plt.title(f\"Confusion Matrix\\n{params}\")\n",
        "        # plt.tight_layout()\n",
        "        # plt.show()\n",
        "\n",
        "        report = {\n",
        "            'params': params,\n",
        "            # 'best_model': model,\n",
        "            'mean_cv_wll': abs(row['mean_test_score']),\n",
        "            # 'report': classification_report(y_test, y_pred, output_dict=True)\n",
        "        }\n",
        "        report[exp.group_by] = params[exp.group_by]\n",
        "        reports.append(report)\n",
        "\n",
        "    # all_reports[exp.name] = pd.DataFrame(reports)\n",
        "    output_df = pd.DataFrame(reports)\n",
        "\n",
        "    # Output results\n",
        "    print(f\"===== EXPERIMENT: {exp.name} =====\\n\")\n",
        "    best_row = output_df[\"mean_cv_wll\"].idxmin()\n",
        "    print(f\"Best params: {output_df.loc[best_row, 'params']}\\n\")\n",
        "    # print(reports[[\"params\", \"mean_cv_test_score\"]])\n",
        "    print(output_df.loc[:, output_df.columns != \"params\"])\n",
        "    # print(\"\\n====================\\n\")\n",
        "\n",
        "    plt.figure(constrained_layout=True)\n",
        "    ax = sns.lineplot(data=output_df, x=exp.group_by, y=\"mean_cv_wll\")\n",
        "    plt.title(exp.name)\n",
        "    ax.set_ylabel(\"Mean CV weighted log-loss\\n(lower is better)\")\n",
        "    plt.show()\n",
        "    print()\n",
        "\n",
        "    # TODO: print classification report / confusion matrix for best model (`grid`)\n"
      ],
      "metadata": {
        "id": "wabDHL1vOMmT",
        "colab": {
          "base_uri": "https://localhost:8080/",
          "height": 1000
        },
        "outputId": "53251b6e-97aa-4261-f9a4-2491e3cf4be7"
      },
      "execution_count": null,
      "outputs": [
        {
          "output_type": "stream",
          "name": "stdout",
          "text": [
            "===== EXPERIMENT: LR - l2 penalty + grid search for C =====\n",
            "\n",
            "Best params: {'classifier__C': np.float64(0.00630957344480193)}\n",
            "\n",
            "   mean_cv_wll  classifier__C\n",
            "0     0.005303       0.006310\n",
            "1     0.006917       0.000251\n",
            "2     0.007821       0.158489\n",
            "3     0.009644       0.000010\n",
            "4     0.018702       3.981072\n",
            "5     0.027892     100.000000\n"
          ]
        },
        {
          "output_type": "display_data",
          "data": {
            "text/plain": [
              "<Figure size 640x480 with 1 Axes>"
            ],
            "image/png": "[encoded data removed]"
          },
          "metadata": {}
        },
        {
          "output_type": "stream",
          "name": "stdout",
          "text": [
            "\n",
            "===== EXPERIMENT: LR - PCA, no penalty =====\n",
            "\n",
            "Best params: {'classifier__penalty': None, 'reduce_dim': PCA(), 'reduce_dim__n_components': np.int64(10)}\n",
            "\n",
            "   mean_cv_wll  reduce_dim__n_components\n",
            "0     0.008110                        10\n",
            "1     0.008948                        14\n",
            "2     0.009363                        21\n",
            "3     0.011028                        31\n",
            "4     0.012688                        45\n",
            "5     0.016678                        66\n",
            "6     0.022204                        96\n",
            "7     0.032038                       140\n",
            "8     0.035678                       300\n",
            "9     0.035789                       205\n"
          ]
        },
        {
          "output_type": "display_data",
          "data": {
            "text/plain": [
              "<Figure size 640x480 with 1 Axes>"
            ],
            "image/png": "[encoded data removed]"
          },
          "metadata": {}
        },
        {
          "output_type": "stream",
          "name": "stdout",
          "text": [
            "\n",
            "===== EXPERIMENT: LR - PCA, l2 penalty + grid search for C =====\n",
            "\n",
            "Best params: {'classifier__C': np.float64(0.00630957344480193), 'reduce_dim': PCA(), 'reduce_dim__n_components': np.int64(300)}\n",
            "\n",
            "   mean_cv_wll  reduce_dim__n_components\n",
            "0     0.005325                       300\n",
            "1     0.005334                       205\n",
            "2     0.005370                       140\n",
            "3     0.005426                        96\n",
            "4     0.005574                        66\n",
            "5     0.005761                        45\n",
            "6     0.005967                        31\n",
            "7     0.006227                        21\n",
            "8     0.006624                        14\n",
            "9     0.007034                        10\n"
          ]
        },
        {
          "output_type": "display_data",
          "data": {
            "text/plain": [
              "<Figure size 640x480 with 1 Axes>"
            ],
            "image/png": "[encoded data removed]"
          },
          "metadata": {}
        },
        {
          "output_type": "stream",
          "name": "stdout",
          "text": [
            "\n"
          ]
        }
      ]
    },
    {
      "cell_type": "code",
      "source": [
        "# pd.set_option('display.max_colwidth', None)\n",
        "\n",
        "# for experiment_name, reports in all_reports.items():\n",
        "    # print(f\"EXPERIMENT: {experiment_name}\\n\")\n",
        "    # best_row = reports[\"mean_cv_wll\"].idxmin()\n",
        "    # print(best_row)\n",
        "    # print(f\"Best params: {reports.loc[best_row, 'params']}\\n\")\n",
        "    # # print(reports[[\"params\", \"mean_cv_test_score\"]])\n",
        "    # print(reports.loc[:, reports.columns != \"params\"])\n",
        "\n",
        "    # sns.lineplot(data=reports, x=\"x\", y=\"mean_cv_wll\")\n",
        "    # print(\"\\n====================\\n\")\n",
        "\n",
        "# pd.set_option('display.max_colwidth', 50)"
      ],
      "metadata": {
        "id": "Do2tQpNSuMZ1"
      },
      "execution_count": null,
      "outputs": []
    },
    {
      "cell_type": "markdown",
      "source": [
        "## SelectKBest(mutual_info_classif)\n",
        "TODO: update variable/experiment names"
      ],
      "metadata": {
        "id": "5CboKWcGXoRo"
      }
    },
    {
      "cell_type": "code",
      "source": [
        "from sklearn.feature_selection import SelectKBest, mutual_info_classif\n",
        "\n",
        "# Basic logistic regression model\n",
        "logistic = LogisticRegression(\n",
        "    max_iter=N_ITERATIONS,\n",
        "    multi_class='multinomial',\n",
        "    solver='lbfgs',\n",
        "    tol=TOLERANCE,\n",
        "    class_weight=\"balanced\", # same as weighted log loss (scaled by some factor)\n",
        ")\n",
        "\n",
        "# Pipeline setup\n",
        "lr_pipe = Pipeline(steps=[\n",
        "    (\"scaler\", scaler),\n",
        "    (\"pca\", PCA(0.95)),\n",
        "    (\"feat_select\", \"passthrough\"),\n",
        "    (\"classifier\", logistic),\n",
        "])\n",
        "\n",
        "# Model 1 - logistic regression with l2 regularisation only\n",
        "# It was consistently choosing C=0.0464... when using (-4, 4, 4), shifted the range\n",
        "C_OPTIONS = np.logspace(-5, 2, 6)\n",
        "lr_reg_params = {\n",
        "    \"classifier__C\": C_OPTIONS,\n",
        "}\n",
        "\n",
        "# Model 2 - select k best without regularisation\n",
        "# N_FEATURES_OPTIONS = np.geomspace(10, 300, num=10).astype(int)\n",
        "N_FEATURES_OPTIONS = [10, 50, 100]\n",
        "lr_pca_params = {\n",
        "    \"feat_select\": [SelectKBest(score_func=mutual_info_classif)],\n",
        "    \"feat_select__k\": N_FEATURES_OPTIONS, # TODO - diff n components?\n",
        "    \"classifier__penalty\": [None],\n",
        "}\n",
        "\n",
        "# Model 3 - Grid search with L2 regularization and varying C\n",
        "lr_pca_reg_params = {\n",
        "    \"feat_select\": [SelectKBest(score_func=mutual_info_classif)],\n",
        "    \"feat_select__k\": N_FEATURES_OPTIONS, # TODO - diff n components?\n",
        "    \"classifier__C\": C_OPTIONS,\n",
        "}"
      ],
      "metadata": {
        "id": "FBkXzSjZyTYy"
      },
      "execution_count": null,
      "outputs": []
    },
    {
      "cell_type": "code",
      "source": [
        "from dataclasses import dataclass\n",
        "from typing import Iterable\n",
        "\n",
        "@dataclass\n",
        "class Experiment:\n",
        "     name: str\n",
        "     # sklearn classifier, or a pipeline/GridSearchCV etc containing one\n",
        "     estimator: ...\n",
        "     param_grid: dict\n",
        "     # Grid param(s) to group by & use as the horizontal axis, e.g. \"classifier__C\"\n",
        "     group_by: str\n",
        "     trained_model: ... = None\n",
        "\n",
        "experiments = (\n",
        "    # Logistic regression (with and without regularisation / PCA etc)\n",
        "    Experiment('LR - l2 penalty + grid search for C', lr_pipe, lr_reg_params, \"classifier__C\"),\n",
        "    Experiment('LR - PCA, no penalty', lr_pipe, lr_pca_params, \"reduce_dim__n_components\"),\n",
        "    Experiment('LR - PCA, l2 penalty + grid search for C', lr_pipe, lr_pca_reg_params, \"reduce_dim__n_components\"),\n",
        ")\n",
        "\n",
        "for exp in experiments:\n",
        "    print(f\"Training {exp.name}...\")\n",
        "    grid = GridSearchCV(\n",
        "        estimator=exp.estimator,\n",
        "        param_grid=exp.param_grid,\n",
        "        scoring=custom_scorer, # negative weighted log loss\n",
        "        error_score=\"raise\", # type: ignore\n",
        "        cv=StratifiedKFold(n_splits=3), # 2/3rds of data for training, 1/3rd for evaluation\n",
        "        n_jobs=-1\n",
        "    )\n",
        "    grid.fit(X_train, y_train)\n",
        "    exp.trained_model = grid"
      ],
      "metadata": {
        "colab": {
          "base_uri": "https://localhost:8080/"
        },
        "outputId": "6830b598-fc17-4997-c663-4c591e378875",
        "id": "sUFg3Bn8WtsK"
      },
      "execution_count": null,
      "outputs": [
        {
          "output_type": "stream",
          "name": "stdout",
          "text": [
            "Training LR - l2 penalty + grid search for C...\n",
            "Training LR - PCA, no penalty...\n"
          ]
        }
      ]
    },
    {
      "cell_type": "code",
      "source": [
        "for exp in experiments:\n",
        "    grid = exp.trained_model\n",
        "    if not grid:\n",
        "        raise AttributeError(f\"trained_model not set for {exp.name}\")\n",
        "\n",
        "    results_df = pd.DataFrame(grid.cv_results_)\n",
        "\n",
        "    group_by = \"param_\" + exp.group_by\n",
        "    best_rows = results_df.sort_values('mean_test_score', ascending=False).groupby(group_by).head(1)\n",
        "\n",
        "    reports = []\n",
        "\n",
        "    for _, row in best_rows.iterrows():\n",
        "        params = row['params']\n",
        "\n",
        "        report = {\n",
        "            'params': params,\n",
        "            'mean_cv_wll': abs(row['mean_test_score']),\n",
        "        }\n",
        "        report[exp.group_by] = params[exp.group_by]\n",
        "        reports.append(report)\n",
        "\n",
        "    output_df = pd.DataFrame(reports)\n",
        "\n",
        "    # Output results\n",
        "    print(f\"===== EXPERIMENT: {exp.name} =====\\n\")\n",
        "    best_row = output_df[\"mean_cv_wll\"].idxmin()\n",
        "    print(f\"Best params: {output_df.loc[best_row, 'params']}\\n\")\n",
        "    print(output_df.loc[:, output_df.columns != \"params\"])\n",
        "\n",
        "    plt.figure(constrained_layout=True)\n",
        "    ax = sns.lineplot(data=output_df, x=exp.group_by, y=\"mean_cv_wll\")\n",
        "    plt.title(exp.name)\n",
        "    ax.set_ylabel(\"Mean CV weighted log-loss\\n(lower is better)\")\n",
        "    plt.show()\n",
        "    print()\n",
        "\n",
        "    # TODO: print classification report / confusion matrix for best model (`grid`)\n"
      ],
      "metadata": {
        "id": "lCoKR27rWtsK"
      },
      "execution_count": null,
      "outputs": []
    },
    {
      "cell_type": "markdown",
      "source": [
        "# TODO: check N_COMPONENTS=0.8, 0.85, 0.9, 0.95, (1?)\n",
        "\n",
        "For e.g. 95% of explained variance in X"
      ],
      "metadata": {
        "id": "7brix7qM0tRN"
      }
    },
    {
      "cell_type": "markdown",
      "source": [],
      "metadata": {
        "id": "6mKQQ_d2mrFy"
      }
    }
  ]
}